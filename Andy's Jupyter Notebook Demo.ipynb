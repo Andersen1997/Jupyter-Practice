{
 "cells": [
  {
   "cell_type": "markdown",
   "metadata": {},
   "source": [
    "# My Jupyter Notebook on IBM Data Science Experience"
   ]
  },
  {
   "cell_type": "markdown",
   "metadata": {},
   "source": [
    "**My Name: Andersen**  \n",
    "Current Occupation: Computer Engineering Student | Undergraduate Researcher  \n",
    "Desired Occupation: Full-Stack Data Scientist"
   ]
  },
  {
   "cell_type": "markdown",
   "metadata": {},
   "source": [
    "*I am interested in data science not only because it is attractive in its great potential in the upcoming century, but also because I feel lucky to live in the 21st century when almost everything is generating a massive amount of data with stories waiting to be uncovered.*"
   ]
  },
  {
   "cell_type": "markdown",
   "metadata": {},
   "source": [
    "### Q1: What is 3 to the power of 4?"
   ]
  },
  {
   "cell_type": "code",
   "execution_count": 19,
   "metadata": {},
   "outputs": [
    {
     "name": "stdout",
     "output_type": "stream",
     "text": [
      "A: 3^4 equals 81. \n"
     ]
    }
   ],
   "source": [
    "a = 3 ** 4\n",
    "print (\"A: 3^4 equals \" + repr(a) + \". \")"
   ]
  },
  {
   "cell_type": "markdown",
   "metadata": {},
   "source": [
    "***\n",
    "### Q2: What are my top strengths?\n",
    "+ Restorative\n",
    "- Discipline\n",
    "+ Focus\n",
    "- Learner\n",
    "+ Analytical\n",
    "> Reported by GALLUP Inc.  \n",
    "---\n",
    "### Q3: Show us a mathematical example in Python?\n",
    "```python\n",
    "# Python program to display the Fibonacci sequence up to n-th term using recursive functions\n",
    "\n",
    "def recur_fibo(n):\n",
    "   \"\"\"Recursive function to\n",
    "   print Fibonacci sequence\"\"\"\n",
    "   if n <= 1:\n",
    "       return n\n",
    "   else:\n",
    "       return(recur_fibo(n-1) + recur_fibo(n-2))\n",
    "\n",
    "# Change this value for a different result\n",
    "nterms = 10\n",
    "\n",
    "# uncomment to take input from the user\n",
    "#nterms = int(input(\"How many terms? \"))\n",
    "\n",
    "# check if the number of terms is valid\n",
    "if nterms <= 0:\n",
    "   print(\"Plese enter a positive integer\")\n",
    "else:\n",
    "   print(\"Fibonacci sequence:\")\n",
    "   for i in range(nterms):\n",
    "       print(recur_fibo(i))\n",
    "\n",
    "# Source: https://www.programiz.com/python-programming/examples/fibonacci-recursion\n",
    "```\n",
    "---\n",
    "### Q4: What's your favorite anime movie?\n",
    "### Penguin ~~OPPAI~~ Highway -> <a href=\"http://penguin-highway.com/\" target=\"_blank\">Official Website</a>\n",
    "<img src=\"https://uploads-ssl.webflow.com/5a62f3145e467c0001480868/5c4b5c23676e137dc5a17b56_PH_s_005-p-1600.jpeg\">"
   ]
  }
 ],
 "metadata": {
  "kernelspec": {
   "display_name": "Python 3",
   "language": "python",
   "name": "python3"
  },
  "language_info": {
   "codemirror_mode": {
    "name": "ipython",
    "version": 3
   },
   "file_extension": ".py",
   "mimetype": "text/x-python",
   "name": "python",
   "nbconvert_exporter": "python",
   "pygments_lexer": "ipython3",
   "version": "3.6.8"
  }
 },
 "nbformat": 4,
 "nbformat_minor": 2
}
